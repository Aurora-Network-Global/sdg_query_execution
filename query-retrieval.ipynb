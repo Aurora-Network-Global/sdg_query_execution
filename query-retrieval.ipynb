{
 "cells": [
  {
   "cell_type": "markdown",
   "metadata": {
    "collapsed": true
   },
   "source": [
    "# SDG query execution\n",
    "## Configuration"
   ]
  },
  {
   "cell_type": "code",
   "execution_count": null,
   "metadata": {},
   "outputs": [],
   "source": [
    "import os\n",
    "import requests\n",
    "\n",
    "from model.AllResponses import AllResponses\n",
    "from model.Unpaywall import Unpaywall\n",
    "from utilities import utils\n",
    "\n",
    "from elasticsearch import Elasticsearch\n",
    "es = Elasticsearch()\n",
    "\n",
    "location = ''\n",
    "elsevier_url = 'https://api.elsevier.com'\n",
    "altmetric_url = 'https://api.altmetric.com/v1'\n",
    "altmetric_key = ''\n",
    "scopus_api_key = ''\n",
    "unpaywall_api_url ='https://api.unpaywall.org/my/request' \n",
    "libintel_user_email = 'john.smith@example.com'\n",
    "results_per_page = 100\n",
    "\n",
    "\n",
    "# prepare location for saving data\n",
    "if not os.path.exists(location):\n",
    "    os.makedirs(location)\n",
    "\n"
   ]
  },
  {
   "cell_type": "markdown",
   "metadata": {},
   "source": [
    "## Define the search"
   ]
  },
  {
   "cell_type": "code",
   "execution_count": null,
   "metadata": {},
   "outputs": [],
   "source": [
    "search = {}\n",
    "search['identifier'] = 'search1'\n",
    "search['author_name'] = ''\n",
    "search['topic'] = ''\n",
    "search['startyear'] = '2010'\n",
    "search['endyear'] = '2017'\n",
    "search['title'] = ''\n",
    "search['subject'] = ''\n",
    "search['author_id'] = '16643594900'\n",
    "search['affiliation_id'] = ''\n"
   ]
  },
  {
   "cell_type": "markdown",
   "metadata": {},
   "source": [
    "### Create directory to save data"
   ]
  },
  {
   "cell_type": "code",
   "execution_count": null,
   "metadata": {},
   "outputs": [],
   "source": [
    "out_dir = location + search['identifier'] + '-out\\\\'\n",
    "print(out_dir)\n",
    "if not os.path.exists(out_dir):\n",
    "    os.makedirs(out_dir)"
   ]
  },
  {
   "cell_type": "markdown",
   "metadata": {},
   "source": [
    "## Define Function to transform a search object into a Scopus query:"
   ]
  },
  {
   "cell_type": "code",
   "execution_count": null,
   "metadata": {},
   "outputs": [],
   "source": [
    "def convert_search_to_scopus_search_string(search):\n",
    "    search_string = \"\"\n",
    "    if search[\"author_name\"]:\n",
    "        if search_string != \"\":\n",
    "            search_string += \" AND \"\n",
    "        search_string += \"AUTH(\" + search[\"author\"] + \")\"\n",
    "    if search[\"topic\"]:\n",
    "        if search_string != \"\":\n",
    "            search_string += \" AND \"\n",
    "        search_string += \"TITLE-ABS-KEY(\" + search[\"topic\"] + \")\"\n",
    "    if search[\"startyear\"]:\n",
    "        if search_string != \"\":\n",
    "            search_string += \" AND \"\n",
    "        search_string += \"PUBYEAR AFT \" + search[\"startyear\"]\n",
    "    if search[\"endyear\"]:\n",
    "        if search_string != \"\":\n",
    "            search_string += \" AND \"\n",
    "        search_string += \"PUBYEAR BEF \" + search[\"endyear\"]\n",
    "    if search[\"title\"]:\n",
    "        if search_string != \"\":\n",
    "            search_string += \" AND \"\n",
    "        search_string += \"TITLE(\" + search[\"title\"] + \")\"\n",
    "    if search[\"subject\"]:\n",
    "        if search_string != \"\":\n",
    "            search_string += \" AND \"\n",
    "        search_string += \"SUBJAREA(\" + search[\"subject\"] + \")\"\n",
    "    if search[\"author_id\"]:\n",
    "        if search_string != \"\":\n",
    "            search_string += \" AND \"\n",
    "        search_string += \"AU-ID(\" + search[\"author_id\"] + \")\"\n",
    "    if search[\"affiliation_id\"]:\n",
    "        if search_string != \"\":\n",
    "            search_string += \" AND \"\n",
    "        search_string += 'AF-ID(' + search[\"affiliation_id\"] + ')'\n",
    "    return search_string"
   ]
  },
  {
   "cell_type": "markdown",
   "metadata": {},
   "source": [
    "## Create search string\n",
    "The above conversion funtion is used to create a viable search string for Scopus"
   ]
  },
  {
   "cell_type": "code",
   "execution_count": null,
   "metadata": {},
   "outputs": [],
   "source": [
    "search_string = convert_search_to_scopus_search_string(search)\n",
    "print(search_string)"
   ]
  },
  {
   "cell_type": "markdown",
   "metadata": {},
   "source": [
    "The url to be requested is performed by replacing the whitespaces with '+' and adding the scopus API key. The number of results is set to 1 as this calls is used only to retrieve the total number of results"
   ]
  },
  {
   "cell_type": "code",
   "execution_count": null,
   "metadata": {},
   "outputs": [],
   "source": [
    "url = elsevier_url + '/content/search/scopus?count=1&query=' + search_string.replace(\" \",\"+\") + '&apiKey=' + scopus_api_key\n",
    "print(\"querying URL: \" + url)"
   ]
  },
  {
   "cell_type": "code",
   "execution_count": null,
   "metadata": {},
   "outputs": [],
   "source": [
    "r = requests.get(url)"
   ]
  },
  {
   "cell_type": "code",
   "execution_count": null,
   "metadata": {},
   "outputs": [],
   "source": [
    " if r.status_code == 200:\n",
    "        scopus_first_response = r.json()\n",
    "        number_of_results = int(scopus_first_response['search-results']['opensearch:totalResults'])\n",
    "        print('total number of publications for this query: ' + str(number_of_results))"
   ]
  },
  {
   "cell_type": "markdown",
   "metadata": {},
   "source": [
    "## Collect the individual data\n",
    "For the number of publications make N calls to the API, where N is given by the number of total results divided by the number of results per page (paramter results_per_page) as defined above. \n",
    "\n",
    "For each call the start number is constructed and the query url composed. The HTTP call is performed and if the call was successfull (response code 200) the individual documents are added as JSON-objects to the list 'publication_set'.\n",
    "\n",
    "__if this list becomes to large, we need to do the extension, processing, and storage within this for loop!__"
   ]
  },
  {
   "cell_type": "code",
   "execution_count": null,
   "metadata": {},
   "outputs": [],
   "source": [
    "publication_set = []\n",
    "if number_of_results != 0:\n",
    "    number_of_calls = number_of_results // results_per_page + 1\n",
    "    for i in range(number_of_calls):\n",
    "        start = i * results_per_page\n",
    "        url = elsevier_url + '/content/search/scopus?start=' + str(start) + '&count=' + str(results_per_page) + '&query=' + search_string + '&apiKey=' + scopus_api_key\n",
    "        r = requests.get(url)\n",
    "\n",
    "        # if results are obtained create a ScopusResponse object with all the necessary identifiers accessible.\n",
    "        if r.status_code == 200:\n",
    "            for document in r.json()['search-results']['entry']:\n",
    "                publication_set.append(document)"
   ]
  },
  {
   "cell_type": "markdown",
   "metadata": {},
   "source": [
    "## Extension of data\n",
    "For each of these publications several steps are performed to extend the data."
   ]
  },
  {
   "cell_type": "markdown",
   "metadata": {},
   "source": [
    "### Call the whole Scopus record\n",
    "The extended Scopus is retrieved by calling the corresponding retrieval API. The obtained full record is attached as new node 'extended-data' to the JSON-object"
   ]
  },
  {
   "cell_type": "code",
   "execution_count": null,
   "metadata": {},
   "outputs": [],
   "source": [
    "for document in publication_set:\n",
    "    if document['prism:doi'] is not None:\n",
    "        url = elsevier_url + '/content/abstract/doi/' + document['prism:doi'] + '?apiKey=' + scopus_api_key + '&httpAccept=application%2Fjson'\n",
    "        r = requests.get(url)\n",
    "        print(\"queryied URL: \" + url + \" with status code \" + str(r.status_code))\n",
    "        if r.status_code == 200:\n",
    "            response = r.json()\n",
    "            document['extended_data'] = response"
   ]
  },
  {
   "cell_type": "markdown",
   "metadata": {},
   "source": [
    "## Call the Unpaywall-API\n",
    "Similarly, the Upaywall API is called to retrieve the Open-Access information. The information is stored in the node 'unpaywall-response'."
   ]
  },
  {
   "cell_type": "code",
   "execution_count": null,
   "metadata": {},
   "outputs": [],
   "source": [
    "for document in publication_set:\n",
    "    if document['prism:doi'] is not None:\n",
    "        url = unpaywall_api_url + '/' + document['prism:doi'] + \"?email=\" + libintel_user_email\n",
    "        r = requests.get(url)\n",
    "        print(\"queryied URL: \" + url + \" with status code \" + str(r.status_code))\n",
    "        if r.status_code == 200:\n",
    "            document['unpaywall_response'] = r.json()"
   ]
  },
  {
   "cell_type": "markdown",
   "metadata": {},
   "source": [
    "## Call the Scopus citation API\n",
    "Similarly, the Scopus citation API is called to retrieve the extended citation information. The information is stored in the node 'citation-response'."
   ]
  },
  {
   "cell_type": "code",
   "execution_count": null,
   "metadata": {},
   "outputs": [],
   "source": [
    "for document in publication_set:\n",
    "    if document['prism:doi'] is not None:\n",
    "        url = elsevier_url + '/content/abstract/citations?doi=' + document['prism:doi'] + '&apiKey=' + scopus_api_key\n",
    "        r = requests.get(url)\n",
    "        print(\"queryied URL: \" + url + \" with status code \" + str(r.status_code))\n",
    "        if r.status_code == 200:\n",
    "            document['citation_response'] = r.json()"
   ]
  },
  {
   "cell_type": "markdown",
   "metadata": {},
   "source": [
    "## Call the altmetric API\n",
    "Similarly, the Altmetric API is called to retrieve the web impact information. The information is stored in the node 'altmetric-response'."
   ]
  },
  {
   "cell_type": "code",
   "execution_count": null,
   "metadata": {},
   "outputs": [],
   "source": [
    "for document in publication_set:\n",
    "    if document['prism:doi'] is not None:\n",
    "        url = altmetric_url + '/doi/' + document['prism:doi'] + '?key=' + altmetric_key\n",
    "        r = requests.get(url)\n",
    "        print(\"queryied URL: \" + url + \" with status code \" + str(r.status_code))\n",
    "        if r.status_code == 200:\n",
    "            document['altmetric_response'] = r.json()"
   ]
  },
  {
   "cell_type": "markdown",
   "metadata": {},
   "source": [
    "## Send To Index\n",
    "The individual documents are stored within an index to allow for queries on this index"
   ]
  },
  {
   "cell_type": "code",
   "execution_count": null,
   "metadata": {},
   "outputs": [],
   "source": [
    "for document in publication_set:\n",
    "    res = es.index(search['identifier', 'full-data', document)\n",
    "    print('saved to index ' + query_id)\n",
    "    print(res['result'])"
   ]
  }
 ],
 "metadata": {
  "kernelspec": {
   "display_name": "Python 3",
   "language": "python",
   "name": "python3"
  },
  "language_info": {
   "codemirror_mode": {
    "name": "ipython",
    "version": 3
   },
   "file_extension": ".py",
   "mimetype": "text/x-python",
   "name": "python",
   "nbconvert_exporter": "python",
   "pygments_lexer": "ipython3",
   "version": "3.6.0b2"
  }
 },
 "nbformat": 4,
 "nbformat_minor": 1
}
